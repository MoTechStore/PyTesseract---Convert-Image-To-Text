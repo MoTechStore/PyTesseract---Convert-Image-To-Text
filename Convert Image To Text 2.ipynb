{
 "cells": [
  {
   "cell_type": "code",
   "execution_count": 11,
   "metadata": {},
   "outputs": [
    {
     "name": "stdout",
     "output_type": "stream",
     "text": [
      "Dear Best friend, please\n",
      "stay in my life forever\n",
      "because you're one of the\n",
      "best things to ever happen\n",
      "to me. Love, Me.\n",
      "\f",
      "\n"
     ]
    }
   ],
   "source": [
    "from PIL import Image\n",
    "import PIL.Image\n",
    "from pytesseract import image_to_string\n",
    "import pytesseract\n",
    "\n",
    "output = pytesseract.image_to_string(PIL.Image.open('images.png').convert(\"RGB\"), lang='eng')\n",
    "print(output)"
   ]
  },
  {
   "cell_type": "code",
   "execution_count": 12,
   "metadata": {},
   "outputs": [
    {
     "name": "stdout",
     "output_type": "stream",
     "text": [
      " \n",
      "\n",
      "sell\n",
      "\n",
      " \n",
      "\n",
      "Jaza eneo la nyumba au kiwanja kinapouzwa,\n",
      "\n",
      "majina yako, bei ya kiwanja au nyumba na bei yake.\n",
      "\n",
      "Your Name\n",
      "\n",
      "Post Title\n",
      "\f",
      "\n"
     ]
    }
   ],
   "source": [
    "from PIL import Image\n",
    "import pytesseract as tess\n",
    "tess.pytesseract.tesseract_cmd = r'C:\\Users\\MoTech\\AppData\\Local\\Tesseract-OCR\\tesseract.exe'\n",
    "img = Image.open('003.jpg')\n",
    "text = tess.image_to_string(img)\n",
    "print(text)"
   ]
  },
  {
   "cell_type": "code",
   "execution_count": null,
   "metadata": {},
   "outputs": [],
   "source": []
  }
 ],
 "metadata": {
  "kernelspec": {
   "display_name": "Python 3",
   "language": "python",
   "name": "python3"
  },
  "language_info": {
   "codemirror_mode": {
    "name": "ipython",
    "version": 3
   },
   "file_extension": ".py",
   "mimetype": "text/x-python",
   "name": "python",
   "nbconvert_exporter": "python",
   "pygments_lexer": "ipython3",
   "version": "3.7.4"
  }
 },
 "nbformat": 4,
 "nbformat_minor": 4
}
