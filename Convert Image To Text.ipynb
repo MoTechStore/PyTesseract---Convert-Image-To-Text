{
 "cells": [
  {
   "cell_type": "code",
   "execution_count": 8,
   "metadata": {},
   "outputs": [
    {
     "name": "stdout",
     "output_type": "stream",
     "text": [
      "Dear Best friend, please\n",
      "stay in my life forever\n",
      "because you're one of the\n",
      "best things to ever happen\n",
      "to me. Love, Me.\n",
      "\f",
      "\n"
     ]
    }
   ],
   "source": [
    "from PIL import Image\n",
    "import PIL.Image\n",
    "from pytesseract import image_to_string\n",
    "import pytesseract\n",
    "\n",
    "output = pytesseract.image_to_string(PIL.Image.open('images.png').convert(\"RGB\"), lang='eng')\n",
    "print(output)"
   ]
  },
  {
   "cell_type": "code",
   "execution_count": null,
   "metadata": {},
   "outputs": [],
   "source": []
  }
 ],
 "metadata": {
  "kernelspec": {
   "display_name": "Python 3",
   "language": "python",
   "name": "python3"
  },
  "language_info": {
   "codemirror_mode": {
    "name": "ipython",
    "version": 3
   },
   "file_extension": ".py",
   "mimetype": "text/x-python",
   "name": "python",
   "nbconvert_exporter": "python",
   "pygments_lexer": "ipython3",
   "version": "3.7.4"
  }
 },
 "nbformat": 4,
 "nbformat_minor": 4
}
